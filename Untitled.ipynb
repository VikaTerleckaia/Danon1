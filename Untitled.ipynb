{
 "cells": [
  {
   "cell_type": "code",
   "execution_count": 2,
   "metadata": {},
   "outputs": [],
   "source": [
    "import pandas as pd\n",
    "from statistics import mean, mode, median\n",
    "import numpy as np\n",
    "import seaborn as sns"
   ]
  },
  {
   "cell_type": "code",
   "execution_count": 3,
   "metadata": {},
   "outputs": [],
   "source": [
    "data = pd.read_csv('Data.csv')"
   ]
  },
  {
   "cell_type": "code",
   "execution_count": 4,
   "metadata": {},
   "outputs": [
    {
     "data": {
      "text/plain": [
       "standard_type\n",
       "IC50    172\n",
       "dtype: int64"
      ]
     },
     "execution_count": 4,
     "metadata": {},
     "output_type": "execute_result"
    }
   ],
   "source": [
    "data.pivot_table(index = ['standard_type'], aggfunc='size')"
   ]
  },
  {
   "cell_type": "code",
   "execution_count": 5,
   "metadata": {},
   "outputs": [],
   "source": [
    "data = data.query(\"standard_type == 'IC50'\")"
   ]
  },
  {
   "cell_type": "code",
   "execution_count": 6,
   "metadata": {},
   "outputs": [
    {
     "data": {
      "text/html": [
       "<div>\n",
       "<style scoped>\n",
       "    .dataframe tbody tr th:only-of-type {\n",
       "        vertical-align: middle;\n",
       "    }\n",
       "\n",
       "    .dataframe tbody tr th {\n",
       "        vertical-align: top;\n",
       "    }\n",
       "\n",
       "    .dataframe thead th {\n",
       "        text-align: right;\n",
       "    }\n",
       "</style>\n",
       "<table border=\"1\" class=\"dataframe\">\n",
       "  <thead>\n",
       "    <tr style=\"text-align: right;\">\n",
       "      <th></th>\n",
       "      <th>molecule_chembl_id</th>\n",
       "      <th>Smiles</th>\n",
       "      <th>standard_type</th>\n",
       "      <th>standard_value</th>\n",
       "      <th>standard_units</th>\n",
       "      <th>assay_type</th>\n",
       "      <th>assay_organism</th>\n",
       "      <th>target_organism</th>\n",
       "    </tr>\n",
       "  </thead>\n",
       "  <tbody>\n",
       "    <tr>\n",
       "      <th>0</th>\n",
       "      <td>CHEMBL200215</td>\n",
       "      <td>COc1ccc(C(=O)Nc2ccc(CNc3ccc(-c4nc5ccccc5[nH]4)...</td>\n",
       "      <td>IC50</td>\n",
       "      <td>230.0</td>\n",
       "      <td>nM</td>\n",
       "      <td>B</td>\n",
       "      <td>Homo sapiens</td>\n",
       "      <td>Homo sapiens</td>\n",
       "    </tr>\n",
       "    <tr>\n",
       "      <th>1</th>\n",
       "      <td>CHEMBL199576</td>\n",
       "      <td>CCCOc1ccc(C(=O)Nc2ccc(-c3nc4ccccc4[nH]3)cc2)cc1Br</td>\n",
       "      <td>IC50</td>\n",
       "      <td>2200.0</td>\n",
       "      <td>nM</td>\n",
       "      <td>B</td>\n",
       "      <td>Homo sapiens</td>\n",
       "      <td>Homo sapiens</td>\n",
       "    </tr>\n",
       "    <tr>\n",
       "      <th>2</th>\n",
       "      <td>CHEMBL109482</td>\n",
       "      <td>O=C(O)c1ccc2c(c1)C(=O)N(c1cccc(-c3nc4ccccc4o3)...</td>\n",
       "      <td>IC50</td>\n",
       "      <td>8000.0</td>\n",
       "      <td>nM</td>\n",
       "      <td>B</td>\n",
       "      <td>Homo sapiens</td>\n",
       "      <td>Homo sapiens</td>\n",
       "    </tr>\n",
       "    <tr>\n",
       "      <th>3</th>\n",
       "      <td>CHEMBL196825</td>\n",
       "      <td>O=C(O)Cc1nc(-c2ccc(-c3ccc(NC(=O)c4ccc(Cl)cc4)c...</td>\n",
       "      <td>IC50</td>\n",
       "      <td>2500.0</td>\n",
       "      <td>nM</td>\n",
       "      <td>B</td>\n",
       "      <td>Homo sapiens</td>\n",
       "      <td>Homo sapiens</td>\n",
       "    </tr>\n",
       "    <tr>\n",
       "      <th>4</th>\n",
       "      <td>CHEMBL111508</td>\n",
       "      <td>CCCCCCCCCCCCCCCC(=O)C1=C(OC)[C@@H](CO)OC1=O</td>\n",
       "      <td>IC50</td>\n",
       "      <td>100000.0</td>\n",
       "      <td>nM</td>\n",
       "      <td>B</td>\n",
       "      <td>Homo sapiens</td>\n",
       "      <td>Homo sapiens</td>\n",
       "    </tr>\n",
       "  </tbody>\n",
       "</table>\n",
       "</div>"
      ],
      "text/plain": [
       "  molecule_chembl_id                                             Smiles  \\\n",
       "0       CHEMBL200215  COc1ccc(C(=O)Nc2ccc(CNc3ccc(-c4nc5ccccc5[nH]4)...   \n",
       "1       CHEMBL199576  CCCOc1ccc(C(=O)Nc2ccc(-c3nc4ccccc4[nH]3)cc2)cc1Br   \n",
       "2       CHEMBL109482  O=C(O)c1ccc2c(c1)C(=O)N(c1cccc(-c3nc4ccccc4o3)...   \n",
       "3       CHEMBL196825  O=C(O)Cc1nc(-c2ccc(-c3ccc(NC(=O)c4ccc(Cl)cc4)c...   \n",
       "4       CHEMBL111508        CCCCCCCCCCCCCCCC(=O)C1=C(OC)[C@@H](CO)OC1=O   \n",
       "\n",
       "  standard_type  standard_value standard_units assay_type assay_organism  \\\n",
       "0          IC50           230.0             nM          B   Homo sapiens   \n",
       "1          IC50          2200.0             nM          B   Homo sapiens   \n",
       "2          IC50          8000.0             nM          B   Homo sapiens   \n",
       "3          IC50          2500.0             nM          B   Homo sapiens   \n",
       "4          IC50        100000.0             nM          B   Homo sapiens   \n",
       "\n",
       "  target_organism  \n",
       "0    Homo sapiens  \n",
       "1    Homo sapiens  \n",
       "2    Homo sapiens  \n",
       "3    Homo sapiens  \n",
       "4    Homo sapiens  "
      ]
     },
     "execution_count": 6,
     "metadata": {},
     "output_type": "execute_result"
    }
   ],
   "source": [
    "data.head()"
   ]
  },
  {
   "cell_type": "code",
   "execution_count": 7,
   "metadata": {},
   "outputs": [
    {
     "data": {
      "text/plain": [
       "standard_units\n",
       "nM    172\n",
       "dtype: int64"
      ]
     },
     "execution_count": 7,
     "metadata": {},
     "output_type": "execute_result"
    }
   ],
   "source": [
    "data.pivot_table(index = ['standard_units'], aggfunc='size')"
   ]
  },
  {
   "cell_type": "code",
   "execution_count": 8,
   "metadata": {},
   "outputs": [],
   "source": [
    "def statDescribe (data):\n",
    "    data_min = min(data)\n",
    "    data_max = max(data)\n",
    "    data_mean = round(mean(data), 2)\n",
    "    data_mode = mode(data)\n",
    "    data_median = median(data)\n",
    "    print('Минимальное значение: {0} \\nМаксимальное значение: {1} \\nСреднее значение: {2} \\nМода: {3} \\nМедиана: {4}'\\\n",
    "          .format(data_min, data_max, data_mean, data_mode, data_median))"
   ]
  },
  {
   "cell_type": "code",
   "execution_count": 9,
   "metadata": {},
   "outputs": [
    {
     "name": "stdout",
     "output_type": "stream",
     "text": [
      "Минимальное значение: 5.0 \n",
      "Максимальное значение: 100000.0 \n",
      "Среднее значение: 5861.05 \n",
      "Мода: 10000.0 \n",
      "Медиана: 2250.0\n"
     ]
    }
   ],
   "source": [
    "statDescribe(data['standard_value'])"
   ]
  },
  {
   "cell_type": "code",
   "execution_count": 10,
   "metadata": {},
   "outputs": [],
   "source": [
    "def calcPic50(st_values):\n",
    "    for i in range(0, len(st_values)):\n",
    "        st_values[i] = st_values[i]*10**-9\n",
    "        st_values[i] = round(-np.log10(st_values[i]), 3)\n",
    "    return st_values"
   ]
  },
  {
   "cell_type": "code",
   "execution_count": 11,
   "metadata": {},
   "outputs": [],
   "source": [
    "st_val = list(data['standard_value'])"
   ]
  },
  {
   "cell_type": "code",
   "execution_count": 12,
   "metadata": {},
   "outputs": [],
   "source": [
    "pic50_vals = calcPic50(st_val)"
   ]
  },
  {
   "cell_type": "code",
   "execution_count": 13,
   "metadata": {},
   "outputs": [
    {
     "data": {
      "image/png": "[encoded data removed]",
      "text/plain": [
       "<Figure size 432x288 with 1 Axes>"
      ]
     },
     "metadata": {
      "needs_background": "light"
     },
     "output_type": "display_data"
    }
   ],
   "source": [
    "plot = sns.distplot(pic50_vals)"
   ]
  },
  {
   "cell_type": "code",
   "execution_count": 14,
   "metadata": {},
   "outputs": [
    {
     "name": "stdout",
     "output_type": "stream",
     "text": [
      "Минимальное значение: 4.0 \n",
      "Максимальное значение: 8.301 \n",
      "Среднее значение: 5.69 \n",
      "Мода: 5.0 \n",
      "Медиана: 5.648\n"
     ]
    }
   ],
   "source": [
    "statDescribe(pic50_vals)"
   ]
  },
  {
   "cell_type": "code",
   "execution_count": 15,
   "metadata": {},
   "outputs": [],
   "source": [
    "data['pIC50'] = pic50_vals"
   ]
  },
  {
   "cell_type": "code",
   "execution_count": 16,
   "metadata": {},
   "outputs": [
    {
     "data": {
      "text/html": [
       "<div>\n",
       "<style scoped>\n",
       "    .dataframe tbody tr th:only-of-type {\n",
       "        vertical-align: middle;\n",
       "    }\n",
       "\n",
       "    .dataframe tbody tr th {\n",
       "        vertical-align: top;\n",
       "    }\n",
       "\n",
       "    .dataframe thead th {\n",
       "        text-align: right;\n",
       "    }\n",
       "</style>\n",
       "<table border=\"1\" class=\"dataframe\">\n",
       "  <thead>\n",
       "    <tr style=\"text-align: right;\">\n",
       "      <th></th>\n",
       "      <th>molecule_chembl_id</th>\n",
       "      <th>Smiles</th>\n",
       "      <th>standard_type</th>\n",
       "      <th>standard_value</th>\n",
       "      <th>standard_units</th>\n",
       "      <th>assay_type</th>\n",
       "      <th>assay_organism</th>\n",
       "      <th>target_organism</th>\n",
       "      <th>pIC50</th>\n",
       "    </tr>\n",
       "  </thead>\n",
       "  <tbody>\n",
       "    <tr>\n",
       "      <th>0</th>\n",
       "      <td>CHEMBL200215</td>\n",
       "      <td>COc1ccc(C(=O)Nc2ccc(CNc3ccc(-c4nc5ccccc5[nH]4)...</td>\n",
       "      <td>IC50</td>\n",
       "      <td>230.0</td>\n",
       "      <td>nM</td>\n",
       "      <td>B</td>\n",
       "      <td>Homo sapiens</td>\n",
       "      <td>Homo sapiens</td>\n",
       "      <td>6.638</td>\n",
       "    </tr>\n",
       "    <tr>\n",
       "      <th>1</th>\n",
       "      <td>CHEMBL199576</td>\n",
       "      <td>CCCOc1ccc(C(=O)Nc2ccc(-c3nc4ccccc4[nH]3)cc2)cc1Br</td>\n",
       "      <td>IC50</td>\n",
       "      <td>2200.0</td>\n",
       "      <td>nM</td>\n",
       "      <td>B</td>\n",
       "      <td>Homo sapiens</td>\n",
       "      <td>Homo sapiens</td>\n",
       "      <td>5.658</td>\n",
       "    </tr>\n",
       "    <tr>\n",
       "      <th>2</th>\n",
       "      <td>CHEMBL109482</td>\n",
       "      <td>O=C(O)c1ccc2c(c1)C(=O)N(c1cccc(-c3nc4ccccc4o3)...</td>\n",
       "      <td>IC50</td>\n",
       "      <td>8000.0</td>\n",
       "      <td>nM</td>\n",
       "      <td>B</td>\n",
       "      <td>Homo sapiens</td>\n",
       "      <td>Homo sapiens</td>\n",
       "      <td>5.097</td>\n",
       "    </tr>\n",
       "    <tr>\n",
       "      <th>3</th>\n",
       "      <td>CHEMBL196825</td>\n",
       "      <td>O=C(O)Cc1nc(-c2ccc(-c3ccc(NC(=O)c4ccc(Cl)cc4)c...</td>\n",
       "      <td>IC50</td>\n",
       "      <td>2500.0</td>\n",
       "      <td>nM</td>\n",
       "      <td>B</td>\n",
       "      <td>Homo sapiens</td>\n",
       "      <td>Homo sapiens</td>\n",
       "      <td>5.602</td>\n",
       "    </tr>\n",
       "    <tr>\n",
       "      <th>4</th>\n",
       "      <td>CHEMBL111508</td>\n",
       "      <td>CCCCCCCCCCCCCCCC(=O)C1=C(OC)[C@@H](CO)OC1=O</td>\n",
       "      <td>IC50</td>\n",
       "      <td>100000.0</td>\n",
       "      <td>nM</td>\n",
       "      <td>B</td>\n",
       "      <td>Homo sapiens</td>\n",
       "      <td>Homo sapiens</td>\n",
       "      <td>4.000</td>\n",
       "    </tr>\n",
       "  </tbody>\n",
       "</table>\n",
       "</div>"
      ],
      "text/plain": [
       "  molecule_chembl_id                                             Smiles  \\\n",
       "0       CHEMBL200215  COc1ccc(C(=O)Nc2ccc(CNc3ccc(-c4nc5ccccc5[nH]4)...   \n",
       "1       CHEMBL199576  CCCOc1ccc(C(=O)Nc2ccc(-c3nc4ccccc4[nH]3)cc2)cc1Br   \n",
       "2       CHEMBL109482  O=C(O)c1ccc2c(c1)C(=O)N(c1cccc(-c3nc4ccccc4o3)...   \n",
       "3       CHEMBL196825  O=C(O)Cc1nc(-c2ccc(-c3ccc(NC(=O)c4ccc(Cl)cc4)c...   \n",
       "4       CHEMBL111508        CCCCCCCCCCCCCCCC(=O)C1=C(OC)[C@@H](CO)OC1=O   \n",
       "\n",
       "  standard_type  standard_value standard_units assay_type assay_organism  \\\n",
       "0          IC50           230.0             nM          B   Homo sapiens   \n",
       "1          IC50          2200.0             nM          B   Homo sapiens   \n",
       "2          IC50          8000.0             nM          B   Homo sapiens   \n",
       "3          IC50          2500.0             nM          B   Homo sapiens   \n",
       "4          IC50        100000.0             nM          B   Homo sapiens   \n",
       "\n",
       "  target_organism  pIC50  \n",
       "0    Homo sapiens  6.638  \n",
       "1    Homo sapiens  5.658  \n",
       "2    Homo sapiens  5.097  \n",
       "3    Homo sapiens  5.602  \n",
       "4    Homo sapiens  4.000  "
      ]
     },
     "execution_count": 16,
     "metadata": {},
     "output_type": "execute_result"
    }
   ],
   "source": [
    "data.head()"
   ]
  },
  {
   "cell_type": "code",
   "execution_count": 17,
   "metadata": {},
   "outputs": [
    {
     "data": {
      "text/html": [
       "<div>\n",
       "<style scoped>\n",
       "    .dataframe tbody tr th:only-of-type {\n",
       "        vertical-align: middle;\n",
       "    }\n",
       "\n",
       "    .dataframe tbody tr th {\n",
       "        vertical-align: top;\n",
       "    }\n",
       "\n",
       "    .dataframe thead th {\n",
       "        text-align: right;\n",
       "    }\n",
       "</style>\n",
       "<table border=\"1\" class=\"dataframe\">\n",
       "  <thead>\n",
       "    <tr style=\"text-align: right;\">\n",
       "      <th></th>\n",
       "      <th>molecule_chembl_id</th>\n",
       "      <th>Smiles</th>\n",
       "      <th>standard_type</th>\n",
       "      <th>standard_value</th>\n",
       "      <th>standard_units</th>\n",
       "      <th>assay_type</th>\n",
       "      <th>assay_organism</th>\n",
       "      <th>target_organism</th>\n",
       "      <th>pIC50</th>\n",
       "    </tr>\n",
       "  </thead>\n",
       "  <tbody>\n",
       "    <tr>\n",
       "      <th>0</th>\n",
       "      <td>CHEMBL200215</td>\n",
       "      <td>COc1ccc(C(=O)Nc2ccc(CNc3ccc(-c4nc5ccccc5[nH]4)...</td>\n",
       "      <td>IC50</td>\n",
       "      <td>230.0</td>\n",
       "      <td>nM</td>\n",
       "      <td>B</td>\n",
       "      <td>Homo sapiens</td>\n",
       "      <td>Homo sapiens</td>\n",
       "      <td>6.638</td>\n",
       "    </tr>\n",
       "    <tr>\n",
       "      <th>5</th>\n",
       "      <td>CHEMBL2349245</td>\n",
       "      <td>O=C(O)C1CNC(NC(=O)C(F)(F)F)C(O)C1O</td>\n",
       "      <td>IC50</td>\n",
       "      <td>1000.0</td>\n",
       "      <td>nM</td>\n",
       "      <td>B</td>\n",
       "      <td>Homo sapiens</td>\n",
       "      <td>Homo sapiens</td>\n",
       "      <td>6.000</td>\n",
       "    </tr>\n",
       "    <tr>\n",
       "      <th>7</th>\n",
       "      <td>CHEMBL196713</td>\n",
       "      <td>O=C(O)Cc1ccc2oc(-c3ccc(NC(=O)/C=C/c4cccc(Cl)c4...</td>\n",
       "      <td>IC50</td>\n",
       "      <td>700.0</td>\n",
       "      <td>nM</td>\n",
       "      <td>B</td>\n",
       "      <td>Homo sapiens</td>\n",
       "      <td>Homo sapiens</td>\n",
       "      <td>6.155</td>\n",
       "    </tr>\n",
       "    <tr>\n",
       "      <th>11</th>\n",
       "      <td>CHEMBL279625</td>\n",
       "      <td>O=S(=O)([O-])N[C@@H]1O[C@H](COS(=O)(=O)[O-])[C...</td>\n",
       "      <td>IC50</td>\n",
       "      <td>990.0</td>\n",
       "      <td>nM</td>\n",
       "      <td>B</td>\n",
       "      <td>Homo sapiens</td>\n",
       "      <td>Homo sapiens</td>\n",
       "      <td>6.004</td>\n",
       "    </tr>\n",
       "    <tr>\n",
       "      <th>14</th>\n",
       "      <td>CHEMBL200831</td>\n",
       "      <td>COc1ccc(C(=O)Nc2ccc(CNc3ccc(-c4nc5ccccc5[nH]4)...</td>\n",
       "      <td>IC50</td>\n",
       "      <td>290.0</td>\n",
       "      <td>nM</td>\n",
       "      <td>B</td>\n",
       "      <td>Homo sapiens</td>\n",
       "      <td>Homo sapiens</td>\n",
       "      <td>6.538</td>\n",
       "    </tr>\n",
       "  </tbody>\n",
       "</table>\n",
       "</div>"
      ],
      "text/plain": [
       "   molecule_chembl_id                                             Smiles  \\\n",
       "0        CHEMBL200215  COc1ccc(C(=O)Nc2ccc(CNc3ccc(-c4nc5ccccc5[nH]4)...   \n",
       "5       CHEMBL2349245                 O=C(O)C1CNC(NC(=O)C(F)(F)F)C(O)C1O   \n",
       "7        CHEMBL196713  O=C(O)Cc1ccc2oc(-c3ccc(NC(=O)/C=C/c4cccc(Cl)c4...   \n",
       "11       CHEMBL279625  O=S(=O)([O-])N[C@@H]1O[C@H](COS(=O)(=O)[O-])[C...   \n",
       "14       CHEMBL200831  COc1ccc(C(=O)Nc2ccc(CNc3ccc(-c4nc5ccccc5[nH]4)...   \n",
       "\n",
       "   standard_type  standard_value standard_units assay_type assay_organism  \\\n",
       "0           IC50           230.0             nM          B   Homo sapiens   \n",
       "5           IC50          1000.0             nM          B   Homo sapiens   \n",
       "7           IC50           700.0             nM          B   Homo sapiens   \n",
       "11          IC50           990.0             nM          B   Homo sapiens   \n",
       "14          IC50           290.0             nM          B   Homo sapiens   \n",
       "\n",
       "   target_organism  pIC50  \n",
       "0     Homo sapiens  6.638  \n",
       "5     Homo sapiens  6.000  \n",
       "7     Homo sapiens  6.155  \n",
       "11    Homo sapiens  6.004  \n",
       "14    Homo sapiens  6.538  "
      ]
     },
     "execution_count": 17,
     "metadata": {},
     "output_type": "execute_result"
    }
   ],
   "source": [
    "data = data.query(\"pIC50 >= 6.0\")\n",
    "data.head()"
   ]
  },
  {
   "cell_type": "code",
   "execution_count": 18,
   "metadata": {},
   "outputs": [],
   "source": [
    "data.to_csv('Data_ML.csv', index=False)"
   ]
  },
  {
   "cell_type": "code",
   "execution_count": null,
   "metadata": {},
   "outputs": [],
   "source": []
  }
 ],
 "metadata": {
  "kernelspec": {
   "display_name": "Python 3",
   "language": "python",
   "name": "python3"
  },
  "language_info": {
   "codemirror_mode": {
    "name": "ipython",
    "version": 3
   },
   "file_extension": ".py",
   "mimetype": "text/x-python",
   "name": "python",
   "nbconvert_exporter": "python",
   "pygments_lexer": "ipython3",
   "version": "3.8.3"
  }
 },
 "nbformat": 4,
 "nbformat_minor": 4
}
